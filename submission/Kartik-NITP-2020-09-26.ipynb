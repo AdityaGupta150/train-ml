{
  "nbformat": 4,
  "nbformat_minor": 0,
  "metadata": {
    "colab": {
      "name": "Kartik-NITP-2020-09-26.ipynb",
      "provenance": [],
      "include_colab_link": true
    },
    "kernelspec": {
      "display_name": "Python 3",
      "language": "python",
      "name": "python3"
    },
    "language_info": {
      "codemirror_mode": {
        "name": "ipython",
        "version": 3
      },
      "file_extension": ".py",
      "mimetype": "text/x-python",
      "name": "python",
      "nbconvert_exporter": "python",
      "pygments_lexer": "ipython3",
      "version": "3.8.2"
    }
  },
  "cells": [
    {
      "cell_type": "markdown",
      "metadata": {
        "id": "view-in-github",
        "colab_type": "text"
      },
      "source": [
        "<a href=\"https://colab.research.google.com/github/Kartik-NITP/train-ml/blob/master/submission/Kartik-NITP-2020-09-26.ipynb\" target=\"_parent\"><img src=\"https://colab.research.google.com/assets/colab-badge.svg\" alt=\"Open In Colab\"/></a>"
      ]
    },
    {
      "cell_type": "markdown",
      "metadata": {
        "id": "55No34zu9vg4"
      },
      "source": [
        "#  GRAY INTERFACE \n",
        "\n",
        "## HackSlash "
      ]
    },
    {
      "cell_type": "markdown",
      "metadata": {
        "id": "O6dQOKRo9vg6"
      },
      "source": [
        "----"
      ]
    },
    {
      "cell_type": "markdown",
      "metadata": {
        "id": "3XdIkLBx9vg8"
      },
      "source": [
        "# NumPy"
      ]
    },
    {
      "cell_type": "markdown",
      "metadata": {
        "id": "lvir5M__9vg-"
      },
      "source": [
        "## Exercise 1: Creating Numpy arrays"
      ]
    },
    {
      "cell_type": "markdown",
      "metadata": {
        "id": "Lb3v9X-C9vhA"
      },
      "source": [
        "----"
      ]
    },
    {
      "cell_type": "markdown",
      "metadata": {
        "id": "FMjIgKJg9vhB"
      },
      "source": [
        "#### Write & Run CODE to answer each of the given problem statement.\n",
        "##### Note that Sample Output of the problem statement is also given for reference. "
      ]
    },
    {
      "cell_type": "markdown",
      "metadata": {
        "id": "vYwbtr5C9vhB"
      },
      "source": [
        "----"
      ]
    },
    {
      "cell_type": "markdown",
      "metadata": {
        "id": "0E-p8hbr9vhF"
      },
      "source": [
        "## Import numpy"
      ]
    },
    {
      "cell_type": "code",
      "metadata": {
        "id": "71YIX_wo9vhI"
      },
      "source": [
        "import numpy as np"
      ],
      "execution_count": 2,
      "outputs": []
    },
    {
      "cell_type": "markdown",
      "metadata": {
        "id": "Hh-vmf4s9vhN"
      },
      "source": [
        "## Create Numpy arrays from Python list\n"
      ]
    },
    {
      "cell_type": "markdown",
      "metadata": {
        "id": "L0g293UB9vhP"
      },
      "source": [
        "#### Create Numpy 1d array from list\n",
        "\n",
        "`array([1, 2, 3])`"
      ]
    },
    {
      "cell_type": "code",
      "metadata": {
        "id": "yzBh_iKr9vhQ"
      },
      "source": [
        "list_1d = [1,2,3]"
      ],
      "execution_count": 3,
      "outputs": []
    },
    {
      "cell_type": "code",
      "metadata": {
        "id": "AMkoYe3j9vhV",
        "outputId": "3ccfdc2d-ce80-4e95-cac1-0f012bcffbea",
        "colab": {
          "base_uri": "https://localhost:8080/",
          "height": 34
        }
      },
      "source": [
        "np.array(list_1d)"
      ],
      "execution_count": 4,
      "outputs": [
        {
          "output_type": "execute_result",
          "data": {
            "text/plain": [
              "array([1, 2, 3])"
            ]
          },
          "metadata": {
            "tags": []
          },
          "execution_count": 4
        }
      ]
    },
    {
      "cell_type": "markdown",
      "metadata": {
        "id": "hdwZm6Na9vhj"
      },
      "source": [
        "#### Create Numpy 2d array from list\n",
        "\n",
        "`array([[1, 2, 3],\n",
        "       [4, 5, 6]])`"
      ]
    },
    {
      "cell_type": "code",
      "metadata": {
        "id": "tNAew61P9vhk"
      },
      "source": [
        "list_2d = [[1,2,3], [4,5,6]]"
      ],
      "execution_count": 5,
      "outputs": []
    },
    {
      "cell_type": "code",
      "metadata": {
        "id": "C58C_oi_9vhs",
        "outputId": "73643972-7bb9-4a92-b2e8-1d3b42a6cb12"
      },
      "source": [
        "np.array(list_2d)"
      ],
      "execution_count": null,
      "outputs": [
        {
          "output_type": "execute_result",
          "data": {
            "text/plain": [
              "array([[1, 2, 3],\n",
              "       [4, 5, 6]])"
            ]
          },
          "metadata": {
            "tags": []
          },
          "execution_count": 9
        }
      ]
    },
    {
      "cell_type": "markdown",
      "metadata": {
        "id": "Bs1FAVdh9vhw"
      },
      "source": [
        "#### Create Numpy 3d array from list"
      ]
    },
    {
      "cell_type": "markdown",
      "metadata": {
        "id": "3-lJkuhU9vhx"
      },
      "source": [
        "`array([[[1, 2, 3],\n",
        "        [4, 5, 6]],\n",
        "       [[1, 2, 3],\n",
        "        [4, 5, 6]]])`"
      ]
    },
    {
      "cell_type": "code",
      "metadata": {
        "id": "GodWJ9qK9vhy"
      },
      "source": [
        "list_3d = [[[1,2,3],[4,5,6]], [[1,2,3],[4,5,6]]]"
      ],
      "execution_count": 6,
      "outputs": []
    },
    {
      "cell_type": "code",
      "metadata": {
        "id": "k1uR05H69vh2",
        "outputId": "c121df04-e05e-4009-e50a-de76fe8ae56b",
        "colab": {
          "base_uri": "https://localhost:8080/",
          "height": 101
        }
      },
      "source": [
        "np.array(list_3d)"
      ],
      "execution_count": 7,
      "outputs": [
        {
          "output_type": "execute_result",
          "data": {
            "text/plain": [
              "array([[[1, 2, 3],\n",
              "        [4, 5, 6]],\n",
              "\n",
              "       [[1, 2, 3],\n",
              "        [4, 5, 6]]])"
            ]
          },
          "metadata": {
            "tags": []
          },
          "execution_count": 7
        }
      ]
    },
    {
      "cell_type": "markdown",
      "metadata": {
        "id": "IaERBRoo9vh9"
      },
      "source": [
        "-----"
      ]
    },
    {
      "cell_type": "markdown",
      "metadata": {
        "id": "PRCqqvKN9vh-"
      },
      "source": [
        "## Create Numpy arrays using functions"
      ]
    },
    {
      "cell_type": "markdown",
      "metadata": {
        "id": "btCyOKJL9vh_"
      },
      "source": [
        "#### Create a Numpy 1d array of 10 zeros \n",
        "\n",
        " `array([ 0.,  0.,  0.,  0.,  0.,  0.,  0.,  0.,  0.,  0.])`"
      ]
    },
    {
      "cell_type": "code",
      "metadata": {
        "id": "C3wRTspr9vh_",
        "outputId": "13cc6673-7532-4415-ce34-526305da556a",
        "colab": {
          "base_uri": "https://localhost:8080/",
          "height": 34
        }
      },
      "source": [
        "np.zeros(10,)"
      ],
      "execution_count": 8,
      "outputs": [
        {
          "output_type": "execute_result",
          "data": {
            "text/plain": [
              "array([0., 0., 0., 0., 0., 0., 0., 0., 0., 0.])"
            ]
          },
          "metadata": {
            "tags": []
          },
          "execution_count": 8
        }
      ]
    },
    {
      "cell_type": "markdown",
      "metadata": {
        "id": "nwEPij5F9viD"
      },
      "source": [
        "#### Create a Numpy 1d array of 10 ones\n",
        "\n",
        "`array([ 1.,  1.,  1.,  1.,  1.,  1.,  1.,  1.,  1.,  1.])`"
      ]
    },
    {
      "cell_type": "code",
      "metadata": {
        "id": "efl7_9aK9viE",
        "scrolled": true,
        "outputId": "3076f284-faf7-4940-febf-ace44e9c36e8",
        "colab": {
          "base_uri": "https://localhost:8080/",
          "height": 34
        }
      },
      "source": [
        "np.ones(10,)"
      ],
      "execution_count": 9,
      "outputs": [
        {
          "output_type": "execute_result",
          "data": {
            "text/plain": [
              "array([1., 1., 1., 1., 1., 1., 1., 1., 1., 1.])"
            ]
          },
          "metadata": {
            "tags": []
          },
          "execution_count": 9
        }
      ]
    },
    {
      "cell_type": "markdown",
      "metadata": {
        "id": "qm18HslT9viJ"
      },
      "source": [
        "#### Create a Numpy 1d array of 10 fives\n",
        "\n",
        "`array([5, 5, 5, 5, 5, 5, 5, 5, 5, 5])`"
      ]
    },
    {
      "cell_type": "code",
      "metadata": {
        "id": "wPDfBofF9viL",
        "outputId": "7d8e8eee-e9c2-4b38-f132-05c60bf5022a",
        "colab": {
          "base_uri": "https://localhost:8080/",
          "height": 34
        }
      },
      "source": [
        "np.ones(10,dtype=np.int)*5"
      ],
      "execution_count": 10,
      "outputs": [
        {
          "output_type": "execute_result",
          "data": {
            "text/plain": [
              "array([5, 5, 5, 5, 5, 5, 5, 5, 5, 5])"
            ]
          },
          "metadata": {
            "tags": []
          },
          "execution_count": 10
        }
      ]
    },
    {
      "cell_type": "markdown",
      "metadata": {
        "id": "WPvaR37T9viO"
      },
      "source": [
        "#### Create a Numpy 1d array consisting of all the integers from 10 to 50\n",
        "\n",
        "`array([10, 11, 12, 13, 14, 15, 16, 17, 18, 19, 20, 21, 22, 23, 24, 25, 26,\n",
        "       27, 28, 29, 30, 31, 32, 33, 34, 35, 36, 37, 38, 39, 40, 41, 42, 43,\n",
        "       44, 45, 46, 47, 48, 49, 50])`"
      ]
    },
    {
      "cell_type": "code",
      "metadata": {
        "id": "6QmtwvU79viP",
        "outputId": "f574ac99-ca9a-4fd0-cae4-25610a3ddbe0",
        "colab": {
          "base_uri": "https://localhost:8080/",
          "height": 67
        }
      },
      "source": [
        "np.array(range(10,51))"
      ],
      "execution_count": 11,
      "outputs": [
        {
          "output_type": "execute_result",
          "data": {
            "text/plain": [
              "array([10, 11, 12, 13, 14, 15, 16, 17, 18, 19, 20, 21, 22, 23, 24, 25, 26,\n",
              "       27, 28, 29, 30, 31, 32, 33, 34, 35, 36, 37, 38, 39, 40, 41, 42, 43,\n",
              "       44, 45, 46, 47, 48, 49, 50])"
            ]
          },
          "metadata": {
            "tags": []
          },
          "execution_count": 11
        }
      ]
    },
    {
      "cell_type": "markdown",
      "metadata": {
        "id": "a7MtxtLu9viU"
      },
      "source": [
        "#### Create a Numpy 1d array consisting of all the even integers only from 10 to 50\n",
        "\n",
        "`array([10, 12, 14, 16, 18, 20, 22, 24, 26, 28, 30, 32, 34, 36, 38, 40, 42,\n",
        "       44, 46, 48, 50])`"
      ]
    },
    {
      "cell_type": "code",
      "metadata": {
        "id": "62okgZER9viV",
        "outputId": "d290a94d-fd2c-41de-c83e-0a0cf7a07b07",
        "colab": {
          "base_uri": "https://localhost:8080/",
          "height": 50
        }
      },
      "source": [
        "np.array(range(10,51,2))"
      ],
      "execution_count": 12,
      "outputs": [
        {
          "output_type": "execute_result",
          "data": {
            "text/plain": [
              "array([10, 12, 14, 16, 18, 20, 22, 24, 26, 28, 30, 32, 34, 36, 38, 40, 42,\n",
              "       44, 46, 48, 50])"
            ]
          },
          "metadata": {
            "tags": []
          },
          "execution_count": 12
        }
      ]
    },
    {
      "cell_type": "markdown",
      "metadata": {
        "id": "hQVdqbd69via"
      },
      "source": [
        "#### Create a Numpy 2d array with shape (3,3) having all entries as 1\n",
        "\n",
        "`array([[1., 1., 1.],\n",
        "       [1., 1., 1.],\n",
        "       [1., 1., 1.]])`"
      ]
    },
    {
      "cell_type": "code",
      "metadata": {
        "id": "QoUOQe-s9vid",
        "outputId": "a8f6ab82-4897-4708-b7dd-73f4834de267"
      },
      "source": [
        "np.ones((3,3))"
      ],
      "execution_count": null,
      "outputs": [
        {
          "output_type": "execute_result",
          "data": {
            "text/plain": [
              "array([[1., 1., 1.],\n",
              "       [1., 1., 1.],\n",
              "       [1., 1., 1.]])"
            ]
          },
          "metadata": {
            "tags": []
          },
          "execution_count": 20
        }
      ]
    },
    {
      "cell_type": "markdown",
      "metadata": {
        "id": "M4Go5Hvl9vih"
      },
      "source": [
        "#### Create a Numpy 2d array with shape (10,10) having all diagonal entries as 1 and all others as 0\n",
        "\n",
        "`array([[1., 0., 0., 0., 0., 0., 0., 0., 0., 0.],\n",
        "       [0., 1., 0., 0., 0., 0., 0., 0., 0., 0.],\n",
        "       [0., 0., 1., 0., 0., 0., 0., 0., 0., 0.],\n",
        "       [0., 0., 0., 1., 0., 0., 0., 0., 0., 0.],\n",
        "       [0., 0., 0., 0., 1., 0., 0., 0., 0., 0.],\n",
        "       [0., 0., 0., 0., 0., 1., 0., 0., 0., 0.],\n",
        "       [0., 0., 0., 0., 0., 0., 1., 0., 0., 0.],\n",
        "       [0., 0., 0., 0., 0., 0., 0., 1., 0., 0.],\n",
        "       [0., 0., 0., 0., 0., 0., 0., 0., 1., 0.],\n",
        "       [0., 0., 0., 0., 0., 0., 0., 0., 0., 1.]])`"
      ]
    },
    {
      "cell_type": "code",
      "metadata": {
        "id": "VzAsEmWz9vii",
        "outputId": "a62250be-0a8b-4b9b-c728-f4d9edf102f0"
      },
      "source": [
        "np.eye(10)"
      ],
      "execution_count": null,
      "outputs": [
        {
          "output_type": "execute_result",
          "data": {
            "text/plain": [
              "array([[1., 0., 0., 0., 0., 0., 0., 0., 0., 0.],\n",
              "       [0., 1., 0., 0., 0., 0., 0., 0., 0., 0.],\n",
              "       [0., 0., 1., 0., 0., 0., 0., 0., 0., 0.],\n",
              "       [0., 0., 0., 1., 0., 0., 0., 0., 0., 0.],\n",
              "       [0., 0., 0., 0., 1., 0., 0., 0., 0., 0.],\n",
              "       [0., 0., 0., 0., 0., 1., 0., 0., 0., 0.],\n",
              "       [0., 0., 0., 0., 0., 0., 1., 0., 0., 0.],\n",
              "       [0., 0., 0., 0., 0., 0., 0., 1., 0., 0.],\n",
              "       [0., 0., 0., 0., 0., 0., 0., 0., 1., 0.],\n",
              "       [0., 0., 0., 0., 0., 0., 0., 0., 0., 1.]])"
            ]
          },
          "metadata": {
            "tags": []
          },
          "execution_count": 21
        }
      ]
    },
    {
      "cell_type": "markdown",
      "metadata": {
        "id": "hFYGnoJo9vim"
      },
      "source": [
        "#### Create a Numpy 2d array with shape (5,6) consisting of values ranging from 1 to 30\n",
        "\n",
        "`array([[ 1,  2,  3,  4,  5,  6],\n",
        "       [ 7,  8,  9, 10, 11, 12],\n",
        "       [13, 14, 15, 16, 17, 18],\n",
        "       [19, 20, 21, 22, 23, 24],\n",
        "       [25, 26, 27, 28, 29, 30]])`"
      ]
    },
    {
      "cell_type": "code",
      "metadata": {
        "id": "WqH6lUS19vin",
        "outputId": "aaed2f40-c73c-4c98-e2d8-5b76e7e89895"
      },
      "source": [
        "np.arange(1,31).reshape(5,6)"
      ],
      "execution_count": null,
      "outputs": [
        {
          "output_type": "execute_result",
          "data": {
            "text/plain": [
              "array([[ 1,  2,  3,  4,  5,  6],\n",
              "       [ 7,  8,  9, 10, 11, 12],\n",
              "       [13, 14, 15, 16, 17, 18],\n",
              "       [19, 20, 21, 22, 23, 24],\n",
              "       [25, 26, 27, 28, 29, 30]])"
            ]
          },
          "metadata": {
            "tags": []
          },
          "execution_count": 24
        }
      ]
    },
    {
      "cell_type": "markdown",
      "metadata": {
        "id": "v6GnL0-a9viq"
      },
      "source": [
        "#### Create a Numpy 1d array consisting of a random number between 0 and 1\n",
        "\n",
        "`array([0.42829726])`"
      ]
    },
    {
      "cell_type": "code",
      "metadata": {
        "id": "Bysy4Y0Z9viq",
        "outputId": "24114b8f-a82f-462b-f5e7-9a9a5a33dc6b"
      },
      "source": [
        "np.random.rand(1)"
      ],
      "execution_count": null,
      "outputs": [
        {
          "output_type": "execute_result",
          "data": {
            "text/plain": [
              "array([0.31115703])"
            ]
          },
          "metadata": {
            "tags": []
          },
          "execution_count": 25
        }
      ]
    },
    {
      "cell_type": "markdown",
      "metadata": {
        "id": "Psqi0iKJ9viu"
      },
      "source": [
        "#### Create a Numpy 1d array consisting of six *random* numbers between 0 and 1\n",
        "\n",
        "`array([0.48986417, 0.61869789, 0.83943457, 0.94889576, 0.79561515, 0.28859058])`"
      ]
    },
    {
      "cell_type": "code",
      "metadata": {
        "id": "NQzitn6I9viv",
        "outputId": "e7271517-7d11-4b74-eb23-12cbef048c2e"
      },
      "source": [
        "np.random.rand(6)"
      ],
      "execution_count": null,
      "outputs": [
        {
          "output_type": "execute_result",
          "data": {
            "text/plain": [
              "array([0.21106657, 0.38814039, 0.99848708, 0.30385498, 0.71515512,\n",
              "       0.39056356])"
            ]
          },
          "metadata": {
            "tags": []
          },
          "execution_count": 26
        }
      ]
    },
    {
      "cell_type": "markdown",
      "metadata": {
        "id": "sh1A43Wr9vix"
      },
      "source": [
        "#### Create a Numpy 2d array of shape (2,3) consisting of five *random* numbers between 0 and 1\n",
        "\n",
        "`array([[0.3991418 , 0.62631826, 0.82763635],\n",
        "       [0.9232742 , 0.08517427, 0.20155819]])`"
      ]
    },
    {
      "cell_type": "code",
      "metadata": {
        "id": "eWSKaOtV9viy",
        "outputId": "62dd33cf-a399-4666-fce3-00ec8057dea7"
      },
      "source": [
        "np.random.rand(2,3)"
      ],
      "execution_count": null,
      "outputs": [
        {
          "output_type": "execute_result",
          "data": {
            "text/plain": [
              "array([[0.21587728, 0.29813336, 0.89550173],\n",
              "       [0.04559366, 0.90435074, 0.99547397]])"
            ]
          },
          "metadata": {
            "tags": []
          },
          "execution_count": 27
        }
      ]
    },
    {
      "cell_type": "markdown",
      "metadata": {
        "id": "9RPZPS2t9vi2"
      },
      "source": [
        "#### Create a Numpy 1d array consisting of 25 random numbers sampled from a *Standard Normal Distribution*\n",
        "\n",
        "`array([-0.01804177, -0.11468092, -0.4790744 , -0.44706856,  0.49891779,\n",
        "        1.53806364, -1.03689237,  0.04379123, -0.6659274 , -0.54294319,\n",
        "       -0.08016372, -0.64441992, -0.12417271,  0.89901988, -0.08695241,\n",
        "        0.23540321,  1.77803936,  1.39912268,  0.19886053, -0.56546787,\n",
        "        0.09538678, -0.47930312,  2.15532489,  0.62643712,  1.19941788])`"
      ]
    },
    {
      "cell_type": "code",
      "metadata": {
        "id": "cRkc58PE9vi3",
        "outputId": "4e0ebc5b-a791-441e-d23b-0ac20b42fdae"
      },
      "source": [
        "np.random.normal(0,1,25)"
      ],
      "execution_count": null,
      "outputs": [
        {
          "output_type": "execute_result",
          "data": {
            "text/plain": [
              "array([-0.95448949,  1.3956762 ,  0.38473106, -0.28855169,  0.00289794,\n",
              "        1.04315766,  0.88741849, -1.07182863,  1.28280878,  1.56778371,\n",
              "        1.40893483,  0.49360032,  0.58156002,  0.01734733,  0.27924931,\n",
              "        0.98894072, -2.01103629, -1.10910382,  0.24711629,  0.33415025,\n",
              "       -1.55146574, -1.61145739, -1.02939958,  1.35164134, -1.15003131])"
            ]
          },
          "metadata": {
            "tags": []
          },
          "execution_count": 29
        }
      ]
    },
    {
      "cell_type": "markdown",
      "metadata": {
        "id": "8aUCAxYn9vi5"
      },
      "source": [
        "#### Generate a *random* integer between 1 and 50\n",
        "\n",
        "`32`"
      ]
    },
    {
      "cell_type": "code",
      "metadata": {
        "id": "MuzCDtSt9vi6",
        "outputId": "dd4d60e0-e2e1-4763-b57f-96d893bb7f2d"
      },
      "source": [
        "np.random.randint(1,50)"
      ],
      "execution_count": null,
      "outputs": [
        {
          "output_type": "execute_result",
          "data": {
            "text/plain": [
              "45"
            ]
          },
          "metadata": {
            "tags": []
          },
          "execution_count": 31
        }
      ]
    },
    {
      "cell_type": "markdown",
      "metadata": {
        "id": "0tAAU66k9vi-"
      },
      "source": [
        "#### Create a Numpy 1d array consisting of five *random* integers between 1 and 50\n",
        "\n",
        "`array([36, 30, 32, 14,  2])`"
      ]
    },
    {
      "cell_type": "code",
      "metadata": {
        "id": "PZKwB14u9vi_",
        "outputId": "77c81dd2-f36a-493e-8946-cb7c63bca7a5"
      },
      "source": [
        "np.random.randint(1,50,size=5)"
      ],
      "execution_count": null,
      "outputs": [
        {
          "output_type": "execute_result",
          "data": {
            "text/plain": [
              "array([14, 11, 27,  2, 24])"
            ]
          },
          "metadata": {
            "tags": []
          },
          "execution_count": 32
        }
      ]
    },
    {
      "cell_type": "markdown",
      "metadata": {
        "id": "bnZYIsXn9vjC"
      },
      "source": [
        "#### Create a Numpy array consisting of 20 linearly spaced points between 0 and 1\n",
        "\n",
        "`array([ 0.        ,  0.05263158,  0.10526316,  0.15789474,  0.21052632,\n",
        "        0.26315789,  0.31578947,  0.36842105,  0.42105263,  0.47368421,\n",
        "        0.52631579,  0.57894737,  0.63157895,  0.68421053,  0.73684211,\n",
        "        0.78947368,  0.84210526,  0.89473684,  0.94736842,  1.        ])`"
      ]
    },
    {
      "cell_type": "code",
      "metadata": {
        "id": "_JmetU4z9vjC",
        "outputId": "2d7f5e69-b379-4824-a270-7915e3020c6c"
      },
      "source": [
        "np.linspace(0,1,20)"
      ],
      "execution_count": null,
      "outputs": [
        {
          "output_type": "execute_result",
          "data": {
            "text/plain": [
              "array([0.        , 0.05263158, 0.10526316, 0.15789474, 0.21052632,\n",
              "       0.26315789, 0.31578947, 0.36842105, 0.42105263, 0.47368421,\n",
              "       0.52631579, 0.57894737, 0.63157895, 0.68421053, 0.73684211,\n",
              "       0.78947368, 0.84210526, 0.89473684, 0.94736842, 1.        ])"
            ]
          },
          "metadata": {
            "tags": []
          },
          "execution_count": 33
        }
      ]
    },
    {
      "cell_type": "markdown",
      "metadata": {
        "id": "NzsvvSGH9vjF"
      },
      "source": [
        "#### Create the following Numpy 2d array:\n",
        "\n",
        "`array([[ 0.01,  0.02,  0.03,  0.04,  0.05,  0.06,  0.07,  0.08,  0.09,  0.1 ],\n",
        "       [ 0.11,  0.12,  0.13,  0.14,  0.15,  0.16,  0.17,  0.18,  0.19,  0.2 ],\n",
        "       [ 0.21,  0.22,  0.23,  0.24,  0.25,  0.26,  0.27,  0.28,  0.29,  0.3 ],\n",
        "       [ 0.31,  0.32,  0.33,  0.34,  0.35,  0.36,  0.37,  0.38,  0.39,  0.4 ],\n",
        "       [ 0.41,  0.42,  0.43,  0.44,  0.45,  0.46,  0.47,  0.48,  0.49,  0.5 ],\n",
        "       [ 0.51,  0.52,  0.53,  0.54,  0.55,  0.56,  0.57,  0.58,  0.59,  0.6 ],\n",
        "       [ 0.61,  0.62,  0.63,  0.64,  0.65,  0.66,  0.67,  0.68,  0.69,  0.7 ],\n",
        "       [ 0.71,  0.72,  0.73,  0.74,  0.75,  0.76,  0.77,  0.78,  0.79,  0.8 ],\n",
        "       [ 0.81,  0.82,  0.83,  0.84,  0.85,  0.86,  0.87,  0.88,  0.89,  0.9 ],\n",
        "       [ 0.91,  0.92,  0.93,  0.94,  0.95,  0.96,  0.97,  0.98,  0.99,  1.  ]])`"
      ]
    },
    {
      "cell_type": "code",
      "metadata": {
        "id": "2s5ht6Eu9vjG",
        "outputId": "7de03b39-c45b-4010-a6c3-7b0cef8f8007"
      },
      "source": [
        "np.linspace(0.01,1,100).reshape(10,10)"
      ],
      "execution_count": null,
      "outputs": [
        {
          "output_type": "execute_result",
          "data": {
            "text/plain": [
              "array([[0.01, 0.02, 0.03, 0.04, 0.05, 0.06, 0.07, 0.08, 0.09, 0.1 ],\n",
              "       [0.11, 0.12, 0.13, 0.14, 0.15, 0.16, 0.17, 0.18, 0.19, 0.2 ],\n",
              "       [0.21, 0.22, 0.23, 0.24, 0.25, 0.26, 0.27, 0.28, 0.29, 0.3 ],\n",
              "       [0.31, 0.32, 0.33, 0.34, 0.35, 0.36, 0.37, 0.38, 0.39, 0.4 ],\n",
              "       [0.41, 0.42, 0.43, 0.44, 0.45, 0.46, 0.47, 0.48, 0.49, 0.5 ],\n",
              "       [0.51, 0.52, 0.53, 0.54, 0.55, 0.56, 0.57, 0.58, 0.59, 0.6 ],\n",
              "       [0.61, 0.62, 0.63, 0.64, 0.65, 0.66, 0.67, 0.68, 0.69, 0.7 ],\n",
              "       [0.71, 0.72, 0.73, 0.74, 0.75, 0.76, 0.77, 0.78, 0.79, 0.8 ],\n",
              "       [0.81, 0.82, 0.83, 0.84, 0.85, 0.86, 0.87, 0.88, 0.89, 0.9 ],\n",
              "       [0.91, 0.92, 0.93, 0.94, 0.95, 0.96, 0.97, 0.98, 0.99, 1.  ]])"
            ]
          },
          "metadata": {
            "tags": []
          },
          "execution_count": 47
        }
      ]
    },
    {
      "cell_type": "markdown",
      "metadata": {
        "id": "amdwWfRp9vjJ"
      },
      "source": [
        "-----"
      ]
    },
    {
      "cell_type": "markdown",
      "metadata": {
        "collapsed": true,
        "id": "14k_WdTm9vjK"
      },
      "source": [
        "# Great Job!"
      ]
    }
  ]
}