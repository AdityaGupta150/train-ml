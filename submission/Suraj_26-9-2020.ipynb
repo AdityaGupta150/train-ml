{
  "nbformat": 4,
  "nbformat_minor": 0,
  "metadata": {
    "kernelspec": {
      "display_name": "Python 3",
      "language": "python",
      "name": "python3"
    },
    "language_info": {
      "codemirror_mode": {
        "name": "ipython",
        "version": 3
      },
      "file_extension": ".py",
      "mimetype": "text/x-python",
      "name": "python",
      "nbconvert_exporter": "python",
      "pygments_lexer": "ipython3",
      "version": "3.7.4"
    },
    "colab": {
      "name": "Suraj_26-9-2020.ipynb",
      "provenance": [],
      "include_colab_link": true
    }
  },
  "cells": [
    {
      "cell_type": "markdown",
      "metadata": {
        "id": "view-in-github",
        "colab_type": "text"
      },
      "source": [
        "<a href=\"https://colab.research.google.com/github/kumarSuraj-bit/train-ml/blob/master/submission/Suraj_26-9-2020.ipynb\" target=\"_parent\"><img src=\"https://colab.research.google.com/assets/colab-badge.svg\" alt=\"Open In Colab\"/></a>"
      ]
    },
    {
      "cell_type": "markdown",
      "metadata": {
        "id": "55No34zu9vg4"
      },
      "source": [
        "#  GRAY INTERFACE \n",
        "\n",
        "## HackSlash "
      ]
    },
    {
      "cell_type": "markdown",
      "metadata": {
        "id": "O6dQOKRo9vg6"
      },
      "source": [
        "----"
      ]
    },
    {
      "cell_type": "markdown",
      "metadata": {
        "id": "3XdIkLBx9vg8"
      },
      "source": [
        "# NumPy"
      ]
    },
    {
      "cell_type": "markdown",
      "metadata": {
        "id": "lvir5M__9vg-"
      },
      "source": [
        "## Exercise 1: Creating Numpy arrays"
      ]
    },
    {
      "cell_type": "markdown",
      "metadata": {
        "id": "Lb3v9X-C9vhA"
      },
      "source": [
        "----"
      ]
    },
    {
      "cell_type": "markdown",
      "metadata": {
        "id": "FMjIgKJg9vhB"
      },
      "source": [
        "#### Write & Run CODE to answer each of the given problem statement.\n",
        "##### Note that Sample Output of the problem statement is also given for reference. "
      ]
    },
    {
      "cell_type": "markdown",
      "metadata": {
        "id": "vYwbtr5C9vhB"
      },
      "source": [
        "----"
      ]
    },
    {
      "cell_type": "markdown",
      "metadata": {
        "id": "0E-p8hbr9vhF"
      },
      "source": [
        "## Import numpy"
      ]
    },
    {
      "cell_type": "code",
      "metadata": {
        "id": "71YIX_wo9vhI"
      },
      "source": [
        "import numpy as np"
      ],
      "execution_count": 1,
      "outputs": []
    },
    {
      "cell_type": "markdown",
      "metadata": {
        "id": "Hh-vmf4s9vhN"
      },
      "source": [
        "## Create Numpy arrays from Python list\n"
      ]
    },
    {
      "cell_type": "markdown",
      "metadata": {
        "id": "L0g293UB9vhP"
      },
      "source": [
        "#### Create Numpy 1d array from list\n",
        "\n",
        "`array([1, 2, 3])`"
      ]
    },
    {
      "cell_type": "code",
      "metadata": {
        "id": "yzBh_iKr9vhQ",
        "outputId": "2f849ce4-0185-449a-ef1e-c3ba0ce420fe",
        "colab": {
          "base_uri": "https://localhost:8080/",
          "height": 34
        }
      },
      "source": [
        "np.array([1,2,3])"
      ],
      "execution_count": 2,
      "outputs": [
        {
          "output_type": "execute_result",
          "data": {
            "text/plain": [
              "array([1, 2, 3])"
            ]
          },
          "metadata": {
            "tags": []
          },
          "execution_count": 2
        }
      ]
    },
    {
      "cell_type": "markdown",
      "metadata": {
        "id": "hdwZm6Na9vhj"
      },
      "source": [
        "#### Create Numpy 2d array from list\n",
        "\n",
        "`array([[1, 2, 3],\n",
        "       [4, 5, 6]])`"
      ]
    },
    {
      "cell_type": "code",
      "metadata": {
        "id": "tNAew61P9vhk",
        "outputId": "fe4a891e-3c1a-4515-b658-64cce10f094c",
        "colab": {
          "base_uri": "https://localhost:8080/",
          "height": 51
        }
      },
      "source": [
        " np.array([[1,2,3], [4,5,6]])"
      ],
      "execution_count": 3,
      "outputs": [
        {
          "output_type": "execute_result",
          "data": {
            "text/plain": [
              "array([[1, 2, 3],\n",
              "       [4, 5, 6]])"
            ]
          },
          "metadata": {
            "tags": []
          },
          "execution_count": 3
        }
      ]
    },
    {
      "cell_type": "markdown",
      "metadata": {
        "id": "Bs1FAVdh9vhw"
      },
      "source": [
        "#### Create Numpy 3d array from list"
      ]
    },
    {
      "cell_type": "markdown",
      "metadata": {
        "id": "3-lJkuhU9vhx"
      },
      "source": [
        "`array([[[1, 2, 3],\n",
        "        [4, 5, 6]],\n",
        "       [[1, 2, 3],\n",
        "        [4, 5, 6]]])`"
      ]
    },
    {
      "cell_type": "code",
      "metadata": {
        "id": "GodWJ9qK9vhy",
        "outputId": "36e07c7e-3a08-4313-bb01-be02b5edd480",
        "colab": {
          "base_uri": "https://localhost:8080/",
          "height": 102
        }
      },
      "source": [
        " np.array([[[1,2,3],[4,5,6]], [[1,2,3],[4,5,6]]])"
      ],
      "execution_count": 4,
      "outputs": [
        {
          "output_type": "execute_result",
          "data": {
            "text/plain": [
              "array([[[1, 2, 3],\n",
              "        [4, 5, 6]],\n",
              "\n",
              "       [[1, 2, 3],\n",
              "        [4, 5, 6]]])"
            ]
          },
          "metadata": {
            "tags": []
          },
          "execution_count": 4
        }
      ]
    },
    {
      "cell_type": "markdown",
      "metadata": {
        "id": "IaERBRoo9vh9"
      },
      "source": [
        "-----"
      ]
    },
    {
      "cell_type": "markdown",
      "metadata": {
        "id": "PRCqqvKN9vh-"
      },
      "source": [
        "## Create Numpy arrays using functions"
      ]
    },
    {
      "cell_type": "markdown",
      "metadata": {
        "id": "btCyOKJL9vh_"
      },
      "source": [
        "#### Create a Numpy 1d array of 10 zeros \n",
        "\n",
        " `array([ 0.,  0.,  0.,  0.,  0.,  0.,  0.,  0.,  0.,  0.])`"
      ]
    },
    {
      "cell_type": "code",
      "metadata": {
        "id": "C3wRTspr9vh_",
        "outputId": "60bb7fe3-9f2b-480a-ab0c-10da08ec472e",
        "colab": {
          "base_uri": "https://localhost:8080/",
          "height": 34
        }
      },
      "source": [
        "np.zeros(10)\n"
      ],
      "execution_count": 5,
      "outputs": [
        {
          "output_type": "execute_result",
          "data": {
            "text/plain": [
              "array([0., 0., 0., 0., 0., 0., 0., 0., 0., 0.])"
            ]
          },
          "metadata": {
            "tags": []
          },
          "execution_count": 5
        }
      ]
    },
    {
      "cell_type": "markdown",
      "metadata": {
        "id": "nwEPij5F9viD"
      },
      "source": [
        "#### Create a Numpy 1d array of 10 ones\n",
        "\n",
        "`array([ 1.,  1.,  1.,  1.,  1.,  1.,  1.,  1.,  1.,  1.])`"
      ]
    },
    {
      "cell_type": "code",
      "metadata": {
        "scrolled": true,
        "id": "efl7_9aK9viE",
        "outputId": "97dddce8-cfe1-4612-d518-f38502526030",
        "colab": {
          "base_uri": "https://localhost:8080/",
          "height": 34
        }
      },
      "source": [
        "np.ones(10)"
      ],
      "execution_count": 6,
      "outputs": [
        {
          "output_type": "execute_result",
          "data": {
            "text/plain": [
              "array([1., 1., 1., 1., 1., 1., 1., 1., 1., 1.])"
            ]
          },
          "metadata": {
            "tags": []
          },
          "execution_count": 6
        }
      ]
    },
    {
      "cell_type": "markdown",
      "metadata": {
        "id": "qm18HslT9viJ"
      },
      "source": [
        "#### Create a Numpy 1d array of 10 fives\n",
        "\n",
        "`array([5, 5, 5, 5, 5, 5, 5, 5, 5, 5])`"
      ]
    },
    {
      "cell_type": "code",
      "metadata": {
        "id": "wPDfBofF9viL",
        "outputId": "87ea5e9b-d220-4c3f-8735-9372e9d55423",
        "colab": {
          "base_uri": "https://localhost:8080/",
          "height": 34
        }
      },
      "source": [
        "np.full(10,5)\n"
      ],
      "execution_count": 7,
      "outputs": [
        {
          "output_type": "execute_result",
          "data": {
            "text/plain": [
              "array([5, 5, 5, 5, 5, 5, 5, 5, 5, 5])"
            ]
          },
          "metadata": {
            "tags": []
          },
          "execution_count": 7
        }
      ]
    },
    {
      "cell_type": "markdown",
      "metadata": {
        "id": "WPvaR37T9viO"
      },
      "source": [
        "#### Create a Numpy 1d array consisting of all the integers from 10 to 50\n",
        "\n",
        "`array([10, 11, 12, 13, 14, 15, 16, 17, 18, 19, 20, 21, 22, 23, 24, 25, 26,\n",
        "       27, 28, 29, 30, 31, 32, 33, 34, 35, 36, 37, 38, 39, 40, 41, 42, 43,\n",
        "       44, 45, 46, 47, 48, 49, 50])`"
      ]
    },
    {
      "cell_type": "code",
      "metadata": {
        "id": "6QmtwvU79viP",
        "outputId": "f166b67f-d18e-4a44-b9e9-229da3ec54b0",
        "colab": {
          "base_uri": "https://localhost:8080/",
          "height": 68
        }
      },
      "source": [
        "np.arange(10,51,1)"
      ],
      "execution_count": 8,
      "outputs": [
        {
          "output_type": "execute_result",
          "data": {
            "text/plain": [
              "array([10, 11, 12, 13, 14, 15, 16, 17, 18, 19, 20, 21, 22, 23, 24, 25, 26,\n",
              "       27, 28, 29, 30, 31, 32, 33, 34, 35, 36, 37, 38, 39, 40, 41, 42, 43,\n",
              "       44, 45, 46, 47, 48, 49, 50])"
            ]
          },
          "metadata": {
            "tags": []
          },
          "execution_count": 8
        }
      ]
    },
    {
      "cell_type": "markdown",
      "metadata": {
        "id": "a7MtxtLu9viU"
      },
      "source": [
        "#### Create a Numpy 1d array consisting of all the even integers only from 10 to 50\n",
        "\n",
        "`array([10, 12, 14, 16, 18, 20, 22, 24, 26, 28, 30, 32, 34, 36, 38, 40, 42,\n",
        "       44, 46, 48, 50])`"
      ]
    },
    {
      "cell_type": "code",
      "metadata": {
        "id": "62okgZER9viV",
        "outputId": "b445abed-d1b2-4a43-eb07-2bd0033cb183",
        "colab": {
          "base_uri": "https://localhost:8080/",
          "height": 51
        }
      },
      "source": [
        "np.arange(10,52,2)"
      ],
      "execution_count": 9,
      "outputs": [
        {
          "output_type": "execute_result",
          "data": {
            "text/plain": [
              "array([10, 12, 14, 16, 18, 20, 22, 24, 26, 28, 30, 32, 34, 36, 38, 40, 42,\n",
              "       44, 46, 48, 50])"
            ]
          },
          "metadata": {
            "tags": []
          },
          "execution_count": 9
        }
      ]
    },
    {
      "cell_type": "markdown",
      "metadata": {
        "id": "hQVdqbd69via"
      },
      "source": [
        "#### Create a Numpy 2d array with shape (3,3) having all entries as 1\n",
        "\n",
        "`array([[1., 1., 1.],\n",
        "       [1., 1., 1.],\n",
        "       [1., 1., 1.]])`"
      ]
    },
    {
      "cell_type": "code",
      "metadata": {
        "id": "QoUOQe-s9vid",
        "outputId": "de4dc424-d51e-4d34-f0f4-322af9e0af59",
        "colab": {
          "base_uri": "https://localhost:8080/",
          "height": 68
        }
      },
      "source": [
        "np.ones([3,3])"
      ],
      "execution_count": 10,
      "outputs": [
        {
          "output_type": "execute_result",
          "data": {
            "text/plain": [
              "array([[1., 1., 1.],\n",
              "       [1., 1., 1.],\n",
              "       [1., 1., 1.]])"
            ]
          },
          "metadata": {
            "tags": []
          },
          "execution_count": 10
        }
      ]
    },
    {
      "cell_type": "markdown",
      "metadata": {
        "id": "M4Go5Hvl9vih"
      },
      "source": [
        "#### Create a Numpy 2d array with shape (10,10) having all diagonal entries as 1 and all others as 0\n",
        "\n",
        "`array([[1., 0., 0., 0., 0., 0., 0., 0., 0., 0.],\n",
        "       [0., 1., 0., 0., 0., 0., 0., 0., 0., 0.],\n",
        "       [0., 0., 1., 0., 0., 0., 0., 0., 0., 0.],\n",
        "       [0., 0., 0., 1., 0., 0., 0., 0., 0., 0.],\n",
        "       [0., 0., 0., 0., 1., 0., 0., 0., 0., 0.],\n",
        "       [0., 0., 0., 0., 0., 1., 0., 0., 0., 0.],\n",
        "       [0., 0., 0., 0., 0., 0., 1., 0., 0., 0.],\n",
        "       [0., 0., 0., 0., 0., 0., 0., 1., 0., 0.],\n",
        "       [0., 0., 0., 0., 0., 0., 0., 0., 1., 0.],\n",
        "       [0., 0., 0., 0., 0., 0., 0., 0., 0., 1.]])`"
      ]
    },
    {
      "cell_type": "code",
      "metadata": {
        "id": "VzAsEmWz9vii",
        "outputId": "98db1df8-bdea-42fc-b711-49da78bb3e8e",
        "colab": {
          "base_uri": "https://localhost:8080/",
          "height": 187
        }
      },
      "source": [
        "a=np.zeros((10,10),int)\n",
        "np.fill_diagonal(a,1)\n",
        "a"
      ],
      "execution_count": 11,
      "outputs": [
        {
          "output_type": "execute_result",
          "data": {
            "text/plain": [
              "array([[1, 0, 0, 0, 0, 0, 0, 0, 0, 0],\n",
              "       [0, 1, 0, 0, 0, 0, 0, 0, 0, 0],\n",
              "       [0, 0, 1, 0, 0, 0, 0, 0, 0, 0],\n",
              "       [0, 0, 0, 1, 0, 0, 0, 0, 0, 0],\n",
              "       [0, 0, 0, 0, 1, 0, 0, 0, 0, 0],\n",
              "       [0, 0, 0, 0, 0, 1, 0, 0, 0, 0],\n",
              "       [0, 0, 0, 0, 0, 0, 1, 0, 0, 0],\n",
              "       [0, 0, 0, 0, 0, 0, 0, 1, 0, 0],\n",
              "       [0, 0, 0, 0, 0, 0, 0, 0, 1, 0],\n",
              "       [0, 0, 0, 0, 0, 0, 0, 0, 0, 1]])"
            ]
          },
          "metadata": {
            "tags": []
          },
          "execution_count": 11
        }
      ]
    },
    {
      "cell_type": "markdown",
      "metadata": {
        "id": "hFYGnoJo9vim"
      },
      "source": [
        "#### Create a Numpy 2d array with shape (5,6) consisting of values ranging from 1 to 30\n",
        "\n",
        "`array([[ 1,  2,  3,  4,  5,  6],\n",
        "       [ 7,  8,  9, 10, 11, 12],\n",
        "       [13, 14, 15, 16, 17, 18],\n",
        "       [19, 20, 21, 22, 23, 24],\n",
        "       [25, 26, 27, 28, 29, 30]])`"
      ]
    },
    {
      "cell_type": "code",
      "metadata": {
        "id": "WqH6lUS19vin",
        "outputId": "9aa5ea7e-0f74-4a56-f3c5-a8b612810b08",
        "colab": {
          "base_uri": "https://localhost:8080/",
          "height": 102
        }
      },
      "source": [
        "np.arange(1,31).reshape(5,6)\n"
      ],
      "execution_count": 12,
      "outputs": [
        {
          "output_type": "execute_result",
          "data": {
            "text/plain": [
              "array([[ 1,  2,  3,  4,  5,  6],\n",
              "       [ 7,  8,  9, 10, 11, 12],\n",
              "       [13, 14, 15, 16, 17, 18],\n",
              "       [19, 20, 21, 22, 23, 24],\n",
              "       [25, 26, 27, 28, 29, 30]])"
            ]
          },
          "metadata": {
            "tags": []
          },
          "execution_count": 12
        }
      ]
    },
    {
      "cell_type": "markdown",
      "metadata": {
        "id": "v6GnL0-a9viq"
      },
      "source": [
        "#### Create a Numpy 1d array consisting of a random number between 0 and 1\n",
        "\n",
        "`array([0.42829726])`"
      ]
    },
    {
      "cell_type": "code",
      "metadata": {
        "id": "Bysy4Y0Z9viq",
        "outputId": "7fd9714b-86bb-4d24-940f-dbfbc061731d",
        "colab": {
          "base_uri": "https://localhost:8080/",
          "height": 34
        }
      },
      "source": [
        "from numpy import random\n",
        "\n",
        "random.rand(1)\n"
      ],
      "execution_count": 13,
      "outputs": [
        {
          "output_type": "execute_result",
          "data": {
            "text/plain": [
              "array([0.7930004])"
            ]
          },
          "metadata": {
            "tags": []
          },
          "execution_count": 13
        }
      ]
    },
    {
      "cell_type": "markdown",
      "metadata": {
        "id": "Psqi0iKJ9viu"
      },
      "source": [
        "#### Create a Numpy 1d array consisting of six *random* numbers between 0 and 1\n",
        "\n",
        "`array([0.48986417, 0.61869789, 0.83943457, 0.94889576, 0.79561515, 0.28859058])`"
      ]
    },
    {
      "cell_type": "code",
      "metadata": {
        "id": "NQzitn6I9viv",
        "outputId": "8e83ef35-03c7-4b12-8007-d4dc961db8a7",
        "colab": {
          "base_uri": "https://localhost:8080/",
          "height": 51
        }
      },
      "source": [
        "random.rand(6)"
      ],
      "execution_count": 14,
      "outputs": [
        {
          "output_type": "execute_result",
          "data": {
            "text/plain": [
              "array([0.17243024, 0.5350596 , 0.90415738, 0.66167569, 0.47533268,\n",
              "       0.35753881])"
            ]
          },
          "metadata": {
            "tags": []
          },
          "execution_count": 14
        }
      ]
    },
    {
      "cell_type": "markdown",
      "metadata": {
        "id": "sh1A43Wr9vix"
      },
      "source": [
        "#### Create a Numpy 2d array of shape (2,3) consisting of five *random* numbers between 0 and 1\n",
        "\n",
        "`array([[0.3991418 , 0.62631826, 0.82763635],\n",
        "       [0.9232742 , 0.08517427, 0.20155819]])`"
      ]
    },
    {
      "cell_type": "code",
      "metadata": {
        "id": "eWSKaOtV9viy",
        "outputId": "52ec279c-e374-47f8-e5f0-0d460670d141",
        "colab": {
          "base_uri": "https://localhost:8080/",
          "height": 51
        }
      },
      "source": [
        "random.rand(2,3)"
      ],
      "execution_count": 15,
      "outputs": [
        {
          "output_type": "execute_result",
          "data": {
            "text/plain": [
              "array([[0.48223918, 0.9730169 , 0.83912275],\n",
              "       [0.97770101, 0.22884495, 0.57693778]])"
            ]
          },
          "metadata": {
            "tags": []
          },
          "execution_count": 15
        }
      ]
    },
    {
      "cell_type": "markdown",
      "metadata": {
        "id": "9RPZPS2t9vi2"
      },
      "source": [
        "#### Create a Numpy 1d array consisting of 25 random numbers sampled from a *Standard Normal Distribution*\n",
        "\n",
        "`array([-0.01804177, -0.11468092, -0.4790744 , -0.44706856,  0.49891779,\n",
        "        1.53806364, -1.03689237,  0.04379123, -0.6659274 , -0.54294319,\n",
        "       -0.08016372, -0.64441992, -0.12417271,  0.89901988, -0.08695241,\n",
        "        0.23540321,  1.77803936,  1.39912268,  0.19886053, -0.56546787,\n",
        "        0.09538678, -0.47930312,  2.15532489,  0.62643712,  1.19941788])`"
      ]
    },
    {
      "cell_type": "code",
      "metadata": {
        "id": "cRkc58PE9vi3",
        "outputId": "80427770-bb0f-42de-d8ac-b545a61e8068",
        "colab": {
          "base_uri": "https://localhost:8080/",
          "height": 102
        }
      },
      "source": [
        "np.random.normal(0,1,25)"
      ],
      "execution_count": 16,
      "outputs": [
        {
          "output_type": "execute_result",
          "data": {
            "text/plain": [
              "array([-0.37836624, -0.70761263,  0.32442873,  0.21911491,  1.40895067,\n",
              "       -0.34049082, -1.86579728, -0.26008144,  2.04100342, -0.43808445,\n",
              "       -1.76568341,  0.70535042, -0.35914442, -0.07547987, -0.35896171,\n",
              "       -1.61732802,  1.06547842, -0.72090624, -0.67208951, -0.40251327,\n",
              "        0.87736707, -0.61570474, -0.20621759, -1.39407698, -0.14024619])"
            ]
          },
          "metadata": {
            "tags": []
          },
          "execution_count": 16
        }
      ]
    },
    {
      "cell_type": "markdown",
      "metadata": {
        "id": "8aUCAxYn9vi5"
      },
      "source": [
        "#### Generate a *random* integer between 1 and 50\n",
        "\n",
        "`32`"
      ]
    },
    {
      "cell_type": "code",
      "metadata": {
        "id": "MuzCDtSt9vi6",
        "outputId": "f7e09a6c-8830-419e-e176-3640ffd364fc",
        "colab": {
          "base_uri": "https://localhost:8080/",
          "height": 34
        }
      },
      "source": [
        "random.randint(50)"
      ],
      "execution_count": 17,
      "outputs": [
        {
          "output_type": "execute_result",
          "data": {
            "text/plain": [
              "15"
            ]
          },
          "metadata": {
            "tags": []
          },
          "execution_count": 17
        }
      ]
    },
    {
      "cell_type": "markdown",
      "metadata": {
        "id": "0tAAU66k9vi-"
      },
      "source": [
        "#### Create a Numpy 1d array consisting of five *random* integers between 1 and 50\n",
        "\n",
        "`array([36, 30, 32, 14,  2])`"
      ]
    },
    {
      "cell_type": "code",
      "metadata": {
        "id": "PZKwB14u9vi_",
        "outputId": "78ce75d3-16fc-4cee-a183-c9612345b130",
        "colab": {
          "base_uri": "https://localhost:8080/",
          "height": 34
        }
      },
      "source": [
        "random.randint(50,size=(5))"
      ],
      "execution_count": 18,
      "outputs": [
        {
          "output_type": "execute_result",
          "data": {
            "text/plain": [
              "array([15, 38, 36, 18,  5])"
            ]
          },
          "metadata": {
            "tags": []
          },
          "execution_count": 18
        }
      ]
    },
    {
      "cell_type": "markdown",
      "metadata": {
        "id": "bnZYIsXn9vjC"
      },
      "source": [
        "#### Create a Numpy array consisting of 20 linearly spaced points between 0 and 1\n",
        "\n",
        "`array([ 0.        ,  0.05263158,  0.10526316,  0.15789474,  0.21052632,\n",
        "        0.26315789,  0.31578947,  0.36842105,  0.42105263,  0.47368421,\n",
        "        0.52631579,  0.57894737,  0.63157895,  0.68421053,  0.73684211,\n",
        "        0.78947368,  0.84210526,  0.89473684,  0.94736842,  1.        ])`"
      ]
    },
    {
      "cell_type": "code",
      "metadata": {
        "id": "_JmetU4z9vjC",
        "outputId": "94fca2cf-7f77-4cf3-c734-c6d408310ab0",
        "colab": {
          "base_uri": "https://localhost:8080/",
          "height": 85
        }
      },
      "source": [
        "np.linspace(0,1,num=20)"
      ],
      "execution_count": 19,
      "outputs": [
        {
          "output_type": "execute_result",
          "data": {
            "text/plain": [
              "array([0.        , 0.05263158, 0.10526316, 0.15789474, 0.21052632,\n",
              "       0.26315789, 0.31578947, 0.36842105, 0.42105263, 0.47368421,\n",
              "       0.52631579, 0.57894737, 0.63157895, 0.68421053, 0.73684211,\n",
              "       0.78947368, 0.84210526, 0.89473684, 0.94736842, 1.        ])"
            ]
          },
          "metadata": {
            "tags": []
          },
          "execution_count": 19
        }
      ]
    },
    {
      "cell_type": "markdown",
      "metadata": {
        "id": "NzsvvSGH9vjF"
      },
      "source": [
        "#### Create the following Numpy 2d array:\n",
        "\n",
        "`array([[ 0.01,  0.02,  0.03,  0.04,  0.05,  0.06,  0.07,  0.08,  0.09,  0.1 ],\n",
        "       [ 0.11,  0.12,  0.13,  0.14,  0.15,  0.16,  0.17,  0.18,  0.19,  0.2 ],\n",
        "       [ 0.21,  0.22,  0.23,  0.24,  0.25,  0.26,  0.27,  0.28,  0.29,  0.3 ],\n",
        "       [ 0.31,  0.32,  0.33,  0.34,  0.35,  0.36,  0.37,  0.38,  0.39,  0.4 ],\n",
        "       [ 0.41,  0.42,  0.43,  0.44,  0.45,  0.46,  0.47,  0.48,  0.49,  0.5 ],\n",
        "       [ 0.51,  0.52,  0.53,  0.54,  0.55,  0.56,  0.57,  0.58,  0.59,  0.6 ],\n",
        "       [ 0.61,  0.62,  0.63,  0.64,  0.65,  0.66,  0.67,  0.68,  0.69,  0.7 ],\n",
        "       [ 0.71,  0.72,  0.73,  0.74,  0.75,  0.76,  0.77,  0.78,  0.79,  0.8 ],\n",
        "       [ 0.81,  0.82,  0.83,  0.84,  0.85,  0.86,  0.87,  0.88,  0.89,  0.9 ],\n",
        "       [ 0.91,  0.92,  0.93,  0.94,  0.95,  0.96,  0.97,  0.98,  0.99,  1.  ]])`"
      ]
    },
    {
      "cell_type": "code",
      "metadata": {
        "id": "2s5ht6Eu9vjG",
        "outputId": "0a0eea3b-f6ba-4401-f393-ceb4d1304ad1",
        "colab": {
          "base_uri": "https://localhost:8080/",
          "height": 187
        }
      },
      "source": [
        "np.arange(1,101).reshape(10,10)/100"
      ],
      "execution_count": 20,
      "outputs": [
        {
          "output_type": "execute_result",
          "data": {
            "text/plain": [
              "array([[0.01, 0.02, 0.03, 0.04, 0.05, 0.06, 0.07, 0.08, 0.09, 0.1 ],\n",
              "       [0.11, 0.12, 0.13, 0.14, 0.15, 0.16, 0.17, 0.18, 0.19, 0.2 ],\n",
              "       [0.21, 0.22, 0.23, 0.24, 0.25, 0.26, 0.27, 0.28, 0.29, 0.3 ],\n",
              "       [0.31, 0.32, 0.33, 0.34, 0.35, 0.36, 0.37, 0.38, 0.39, 0.4 ],\n",
              "       [0.41, 0.42, 0.43, 0.44, 0.45, 0.46, 0.47, 0.48, 0.49, 0.5 ],\n",
              "       [0.51, 0.52, 0.53, 0.54, 0.55, 0.56, 0.57, 0.58, 0.59, 0.6 ],\n",
              "       [0.61, 0.62, 0.63, 0.64, 0.65, 0.66, 0.67, 0.68, 0.69, 0.7 ],\n",
              "       [0.71, 0.72, 0.73, 0.74, 0.75, 0.76, 0.77, 0.78, 0.79, 0.8 ],\n",
              "       [0.81, 0.82, 0.83, 0.84, 0.85, 0.86, 0.87, 0.88, 0.89, 0.9 ],\n",
              "       [0.91, 0.92, 0.93, 0.94, 0.95, 0.96, 0.97, 0.98, 0.99, 1.  ]])"
            ]
          },
          "metadata": {
            "tags": []
          },
          "execution_count": 20
        }
      ]
    },
    {
      "cell_type": "markdown",
      "metadata": {
        "id": "amdwWfRp9vjJ"
      },
      "source": [
        "-----"
      ]
    },
    {
      "cell_type": "markdown",
      "metadata": {
        "collapsed": true,
        "id": "14k_WdTm9vjK"
      },
      "source": [
        "# Great Job!"
      ]
    }
  ]
}